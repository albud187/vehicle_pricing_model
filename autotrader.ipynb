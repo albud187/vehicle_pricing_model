{
 "cells": [
  {
   "cell_type": "code",
   "execution_count": 1,
   "metadata": {},
   "outputs": [],
   "source": [
    "import os\n",
    "from selenium import webdriver\n",
    "from selenium.webdriver.common.keys import Keys\n",
    "import time\n",
    "\n",
    "import pandas as pd\n",
    "from sklearn import linear_model\n",
    "\n",
    "import requests\n",
    "from bs4 import BeautifulSoup\n",
    "import pandas as pd\n",
    "import random\n",
    "from selenium import webdriver\n",
    "from selenium.webdriver.common.action_chains import ActionChains\n",
    "from selenium.webdriver.common.keys import Keys\n",
    "import pickle\n",
    "import scrapy\n",
    "import json\n",
    "\n",
    "with open('autotrader_make_models3.pickle', 'rb') as handle:\n",
    "    make_models = pickle.load(handle)\n",
    "\n",
    "all_makes = list(make_models.keys())\n",
    "chromrdriver = r\"C:\\Users\\alfab\\Documents\\chromedriver.exe\"\n",
    "os.environ[\"webdriver.chrome.driver\"] = chromrdriver"
   ]
  },
  {
   "cell_type": "code",
   "execution_count": 3,
   "metadata": {},
   "outputs": [],
   "source": [
    "#create file structure\n",
    "src_folder = 'scraped_page_src'\n",
    "#page_src --> make --> model ---> make_model_0.html, make_model_1.html, make_model_2.html,,,,,\n",
    "for make in list(make_models.keys()):\n",
    "     os.makedirs(os.path.join(src_folder,make))\n",
    "\n",
    "for make in list(make_models.keys()):\n",
    "    make_path = os.path.join(src_folder,make)\n",
    "    for model in make_models[make]:\n",
    "         os.makedirs(os.path.join(make_path,model.replace('/','_')))"
   ]
  },
  {
   "cell_type": "code",
   "execution_count": 37,
   "metadata": {},
   "outputs": [],
   "source": [
    "target_url = get_url(make_models['toyota'][2],0)\n",
    "chromrdriver = r\"C:\\Users\\alfab\\Documents\\chromedriver.exe\"\n",
    "os.environ[\"webdriver.chrome.driver\"] = chromrdriver\n",
    "driver = webdriver.Chrome(chromrdriver)\n",
    "driver.get(target_url)"
   ]
  },
  {
   "cell_type": "code",
   "execution_count": 2,
   "metadata": {},
   "outputs": [],
   "source": [
    "# def get_url(makemodel,page_num):\n",
    "#     base='https://www.autotrader.com/cars-for-sale/all-cars/'\n",
    "#     PageNumberString = str(page_num*100)\n",
    "#     remainder = 'washington-dc-20500?dma=&maxMileage=200000&searchRadius=0&location=&marketExtension=include&isNewSearch=false&showAccelerateBanner=false&sortBy=relevance&numRecords=100&firstRecord='+PageNumberString\n",
    "#     return(base+makemodel+remainder)\n",
    "location='washington-dc-20500'\n",
    "def get_url(makemodel,location,startyear,endyear):\n",
    "    base_url = 'https://www.autotrader.com/cars-for-sale/all-cars/'\n",
    "    location_text = location+'?dma=&maxMileage=200000&searchRadius=0&location=&marketExtension=include&'\n",
    "    date_range = 'endYear='+str(endyear)+'&startYear='+str(startyear)\n",
    "    page_info ='&isNewSearch=true&showAccelerateBanner=false&sortBy=relevance&numRecords=100'\n",
    "    return(base_url+makemodel+location_text+date_range+page_info)\n",
    "\n",
    "def single_scrape(makemodel,make,location,startyear,endyear):\n",
    "    target_folder = os.path.join('scraped_page_src',make)\n",
    "    model_folder = os.path.join(target_folder,makemodel.replace('/','_'))\n",
    "    \n",
    "    target_url = get_url(makemodel,location,startyear,endyear)\n",
    "    chromrdriver = r\"C:\\Users\\alfab\\Documents\\chromedriver.exe\"\n",
    "    os.environ[\"webdriver.chrome.driver\"] = chromrdriver\n",
    "    driver = webdriver.Chrome(chromrdriver)\n",
    "    driver.get(target_url)\n",
    "    \n",
    "    file = open(os.path.join(model_folder,makemodel.replace('/','_')+str(startyear)+'-'+str(endyear)+'.html'),'w',encoding = 'utf-8')\n",
    "    file.write(driver.page_source)\n",
    "    file.close()\n",
    "#     time.sleep(6)\n",
    "    driver.close()\n"
   ]
  },
  {
   "cell_type": "code",
   "execution_count": 8,
   "metadata": {},
   "outputs": [],
   "source": [
    "def extract_data(target_page):\n",
    "    data = open(target_page,'r',encoding='utf-8')\n",
    "    soup = BeautifulSoup(data, 'html.parser')\n",
    "    all_listings = soup.find_all(\"div\",{\"data-cmp\":\"inventoryListing\"})\n",
    "    \n",
    "    make_model = [target_page.split('\\\\')[2]]*len(all_listings)\n",
    "    year = []\n",
    "    price = []\n",
    "    milage_infos = []\n",
    "\n",
    "    for i in range(len(all_listings)):\n",
    "        try:\n",
    "            vehicle_price = all_listings[i].find_all(\"span\", {\"class\":\"first-price\"})[0].text\n",
    "            vehicle_price = float(vehicle_price.replace(\",\",\"\"))\n",
    "        except:\n",
    "            vehicle_price ='na'\n",
    "        try:\n",
    "            vehicle_milage = all_listings[i].find_all(\"div\", {\"class\":\"item-card-specifications col-xs-9 margin-top-4 text-subdued-lighter margin-bottom-3\"})[0].text\n",
    "            vehicle_milage = float(vehicle_milage.split(\"miles\")[0][:-1].replace(\",\",\"\"))\n",
    "        except:\n",
    "            vehicle_milage = 'na'\n",
    "        try:\n",
    "            vehicle_year = all_listings[i].find_all(\"div\", {\"class\":\"display-flex justify-content-between\"})[0].text\n",
    "            vehicle_year = float(vehicle_year.split(\" \")[1])-2000\n",
    "        except:\n",
    "            vehicle_year='na'\n",
    "\n",
    "\n",
    "        year.append(vehicle_year)\n",
    "        price.append(vehicle_price)\n",
    "        milage_infos.append(vehicle_milage)\n",
    "        \n",
    "    return({\"make_model\":make_model,\"year\":year,\"milage\":milage_infos,\"price\":price})\n",
    "\n",
    "def remove_na(df):\n",
    "    rows_to_drop=[]\n",
    "    for row in range(len(df)):\n",
    "        for col in list(df.columns):\n",
    "            if df.iloc[row][col] =='na':\n",
    "                rows_to_drop.append(row)\n",
    "    output_df = df.drop(rows_to_drop)\n",
    "    return(output_df)"
   ]
  },
  {
   "cell_type": "code",
   "execution_count": 424,
   "metadata": {},
   "outputs": [],
   "source": [
    "data = open(target_page,'r',encoding='utf-8')\n",
    "soup = BeautifulSoup(data, 'html.parser')\n",
    "all_listings = soup.find_all(\"div\",{\"data-cmp\":\"inventoryListing\"})\n",
    "name_info = all_listings[0].find_all(\"div\", {\"class\":\"item-card-specifications col-xs-9 margin-top-4 text-subdued-lighter margin-bottom-3\"})[0].text"
   ]
  },
  {
   "cell_type": "code",
   "execution_count": null,
   "metadata": {},
   "outputs": [],
   "source": [
    "all_makes = list(make_models.keys())\n",
    "\n",
    "# all_makes[0:7]\n",
    "# all_makes[7:14]\n",
    "# all_makes[14:21]\n",
    "# all_makes[21:28]\n",
    "# all_makes[28:]\n",
    "\n",
    "location = 'washington-dc-20500'\n",
    "\n",
    "startyears = [2000,2006,2011,2016]\n",
    "endyears = [2005,2010,2015,2021]\n",
    "\n",
    "for make in all_makes[0:1]:\n",
    "    for model in make_models[make]:\n",
    "        for i in range(len(startyears)):\n",
    "            single_scrape(model,make,location,startyears[i],endyears[i])"
   ]
  },
  {
   "cell_type": "code",
   "execution_count": 402,
   "metadata": {},
   "outputs": [],
   "source": [
    "input_df = df[['year', 'milage', 'price']].reset_index(drop=True)\n",
    "input_df = remove_na(input_df)\n",
    "reg = linear_model.LinearRegression()\n",
    "reg.fit(input_df[['year','milage']],input_df['price'])\n",
    "price_model[model] = [reg.coef_[0], reg.coef_[1],reg.intercept_]"
   ]
  },
  {
   "cell_type": "code",
   "execution_count": 326,
   "metadata": {},
   "outputs": [],
   "source": [
    "make = 'Acura'\n",
    "startyear1 = 2005\n",
    "endyear1 = 2014\n",
    "location = 'washington-dc-20500'\n",
    "startyear2 = 2015\n",
    "endyear2 = 2021\n",
    "\n",
    "makemodel = make_models[make][1]\n",
    "target_folder = os.path.join('scraped_page_src',make)\n",
    "model_folder = os.path.join(target_folder,makemodel.replace('/','_'))\n",
    "target_page = os.path.join(model_folder,makemodel.replace('/','_')+str(startyear1)+'-'+str(endyear1)+'.html')\n",
    "\n",
    "\n",
    "acura_ilx_dict = extract_data(target_page)\n",
    "\n",
    "df = pd.DataFrame(acura_ilx_dict)\n",
    "df = remove_na(df)"
   ]
  },
  {
   "cell_type": "code",
   "execution_count": 327,
   "metadata": {},
   "outputs": [],
   "source": [
    "import matplotlib.pyplot as plt\n",
    "%matplotlib inline\n",
    "from matplotlib.figure import Figure\n",
    "y = df['price']\n",
    "x1 = df['milage']\n",
    "x2 = df['year']"
   ]
  },
  {
   "cell_type": "code",
   "execution_count": 328,
   "metadata": {},
   "outputs": [
    {
     "data": {
      "text/plain": [
       "<matplotlib.collections.PathCollection at 0x27dd1d74820>"
      ]
     },
     "execution_count": 328,
     "metadata": {},
     "output_type": "execute_result"
    },
    {
     "data": {
      "image/png": "[encoded data removed]",
      "text/plain": [
       "<Figure size 432x288 with 1 Axes>"
      ]
     },
     "metadata": {
      "needs_background": "light"
     },
     "output_type": "display_data"
    }
   ],
   "source": [
    "plt.scatter(x1,y)"
   ]
  },
  {
   "cell_type": "code",
   "execution_count": 329,
   "metadata": {},
   "outputs": [
    {
     "data": {
      "text/plain": [
       "<matplotlib.collections.PathCollection at 0x27dd18487f0>"
      ]
     },
     "execution_count": 329,
     "metadata": {},
     "output_type": "execute_result"
    },
    {
     "data": {
      "image/png": "[encoded data removed]",
      "text/plain": [
       "<Figure size 432x288 with 1 Axes>"
      ]
     },
     "metadata": {
      "needs_background": "light"
     },
     "output_type": "display_data"
    }
   ],
   "source": [
    "plt.scatter(x2,y)"
   ]
  },
  {
   "cell_type": "code",
   "execution_count": 332,
   "metadata": {},
   "outputs": [
    {
     "data": {
      "text/html": [
       "<div>\n",
       "<style scoped>\n",
       "    .dataframe tbody tr th:only-of-type {\n",
       "        vertical-align: middle;\n",
       "    }\n",
       "\n",
       "    .dataframe tbody tr th {\n",
       "        vertical-align: top;\n",
       "    }\n",
       "\n",
       "    .dataframe thead th {\n",
       "        text-align: right;\n",
       "    }\n",
       "</style>\n",
       "<table border=\"1\" class=\"dataframe\">\n",
       "  <thead>\n",
       "    <tr style=\"text-align: right;\">\n",
       "      <th></th>\n",
       "      <th>year</th>\n",
       "      <th>milage</th>\n",
       "      <th>price</th>\n",
       "    </tr>\n",
       "  </thead>\n",
       "  <tbody>\n",
       "    <tr>\n",
       "      <th>0</th>\n",
       "      <td>13.0</td>\n",
       "      <td>62569.0</td>\n",
       "      <td>15590</td>\n",
       "    </tr>\n",
       "    <tr>\n",
       "      <th>1</th>\n",
       "      <td>14.0</td>\n",
       "      <td>67950.0</td>\n",
       "      <td>14990</td>\n",
       "    </tr>\n",
       "    <tr>\n",
       "      <th>2</th>\n",
       "      <td>14.0</td>\n",
       "      <td>72435.0</td>\n",
       "      <td>12500</td>\n",
       "    </tr>\n",
       "    <tr>\n",
       "      <th>3</th>\n",
       "      <td>14.0</td>\n",
       "      <td>65484.0</td>\n",
       "      <td>13000</td>\n",
       "    </tr>\n",
       "    <tr>\n",
       "      <th>4</th>\n",
       "      <td>14.0</td>\n",
       "      <td>55321.0</td>\n",
       "      <td>13931</td>\n",
       "    </tr>\n",
       "    <tr>\n",
       "      <th>...</th>\n",
       "      <td>...</td>\n",
       "      <td>...</td>\n",
       "      <td>...</td>\n",
       "    </tr>\n",
       "    <tr>\n",
       "      <th>94</th>\n",
       "      <td>13.0</td>\n",
       "      <td>105720.0</td>\n",
       "      <td>10495</td>\n",
       "    </tr>\n",
       "    <tr>\n",
       "      <th>95</th>\n",
       "      <td>13.0</td>\n",
       "      <td>98226.0</td>\n",
       "      <td>10998</td>\n",
       "    </tr>\n",
       "    <tr>\n",
       "      <th>97</th>\n",
       "      <td>13.0</td>\n",
       "      <td>97585.0</td>\n",
       "      <td>10409</td>\n",
       "    </tr>\n",
       "    <tr>\n",
       "      <th>98</th>\n",
       "      <td>14.0</td>\n",
       "      <td>100456.0</td>\n",
       "      <td>13999</td>\n",
       "    </tr>\n",
       "    <tr>\n",
       "      <th>99</th>\n",
       "      <td>14.0</td>\n",
       "      <td>92903.0</td>\n",
       "      <td>11988</td>\n",
       "    </tr>\n",
       "  </tbody>\n",
       "</table>\n",
       "<p>94 rows × 3 columns</p>\n",
       "</div>"
      ],
      "text/plain": [
       "    year    milage  price\n",
       "0   13.0   62569.0  15590\n",
       "1   14.0   67950.0  14990\n",
       "2   14.0   72435.0  12500\n",
       "3   14.0   65484.0  13000\n",
       "4   14.0   55321.0  13931\n",
       "..   ...       ...    ...\n",
       "94  13.0  105720.0  10495\n",
       "95  13.0   98226.0  10998\n",
       "97  13.0   97585.0  10409\n",
       "98  14.0  100456.0  13999\n",
       "99  14.0   92903.0  11988\n",
       "\n",
       "[94 rows x 3 columns]"
      ]
     },
     "execution_count": 332,
     "metadata": {},
     "output_type": "execute_result"
    }
   ],
   "source": [
    "input_df"
   ]
  },
  {
   "cell_type": "code",
   "execution_count": 331,
   "metadata": {},
   "outputs": [
    {
     "data": {
      "text/plain": [
       "LinearRegression()"
      ]
     },
     "execution_count": 331,
     "metadata": {},
     "output_type": "execute_result"
    }
   ],
   "source": [
    "input_df = df[['year', 'milage', 'price']]\n",
    "reg = linear_model.LinearRegression()\n",
    "reg.fit(input_df[['year','milage']],input_df['price'])"
   ]
  },
  {
   "cell_type": "code",
   "execution_count": 333,
   "metadata": {},
   "outputs": [
    {
     "data": {
      "text/plain": [
       "array([ 7.36097418e+02, -5.45240512e-02])"
      ]
     },
     "execution_count": 333,
     "metadata": {},
     "output_type": "execute_result"
    }
   ],
   "source": [
    "reg.coef_"
   ]
  },
  {
   "cell_type": "code",
   "execution_count": 334,
   "metadata": {},
   "outputs": [
    {
     "data": {
      "text/plain": [
       "7675.536466415794"
      ]
     },
     "execution_count": 334,
     "metadata": {},
     "output_type": "execute_result"
    }
   ],
   "source": [
    "reg.intercept_"
   ]
  },
  {
   "cell_type": "code",
   "execution_count": 343,
   "metadata": {},
   "outputs": [
    {
     "data": {
      "text/plain": [
       "22397.48483479426"
      ]
     },
     "execution_count": 343,
     "metadata": {},
     "output_type": "execute_result"
    }
   ],
   "source": [
    "price_model(20,0,reg)"
   ]
  },
  {
   "cell_type": "code",
   "execution_count": null,
   "metadata": {},
   "outputs": [],
   "source": []
  },
  {
   "cell_type": "code",
   "execution_count": 412,
   "metadata": {},
   "outputs": [],
   "source": [
    "def price_suggestion(price_model, makemodel, year, milage):\n",
    "    coefficients = price_model[makemodel]\n",
    "    return((year-2000)*coefficients[0] + milage*coefficients[1]+coefficients[2])"
   ]
  },
  {
   "cell_type": "code",
   "execution_count": 418,
   "metadata": {},
   "outputs": [
    {
     "data": {
      "text/plain": [
       "5415.649959754452"
      ]
     },
     "execution_count": 418,
     "metadata": {},
     "output_type": "execute_result"
    }
   ],
   "source": [
    "price_suggestion(price_model, 'toyota/corolla/', 2010, 200000)"
   ]
  },
  {
   "cell_type": "code",
   "execution_count": 437,
   "metadata": {},
   "outputs": [
    {
     "data": {
      "text/plain": [
       "315"
      ]
     },
     "execution_count": 437,
     "metadata": {},
     "output_type": "execute_result"
    }
   ],
   "source": [
    "len(vehicle_data_frames)"
   ]
  },
  {
   "cell_type": "code",
   "execution_count": 438,
   "metadata": {},
   "outputs": [],
   "source": [
    "vehicle_keys = list(vehicle_data_frames.keys())"
   ]
  },
  {
   "cell_type": "code",
   "execution_count": 440,
   "metadata": {},
   "outputs": [
    {
     "data": {
      "text/plain": [
       "'gmc/typhoon/'"
      ]
     },
     "execution_count": 440,
     "metadata": {},
     "output_type": "execute_result"
    }
   ],
   "source": [
    "vehicle_keys[314]"
   ]
  },
  {
   "cell_type": "code",
   "execution_count": 11,
   "metadata": {},
   "outputs": [],
   "source": [
    "price_model={}\n",
    "vehicle_data_frames={}\n",
    "\n",
    "# all_makes[0:7]\n",
    "# all_makes[7:14]\n",
    "# all_makes[14:21]\n",
    "# all_makes[21:28]\n",
    "# all_makes[28:]\n",
    "\n",
    "location = 'washington-dc-20500'\n",
    "\n",
    "startyears = [2000,2006,2011,2016]\n",
    "endyears = [2005,2010,2015,2021]\n",
    "\n",
    "for make in all_makes:\n",
    "    for model in make_models[make]:\n",
    "        df = pd.DataFrame(columns = ['make_model', 'year', 'milage', 'price'])\n",
    "        for i in range(len(startyears)):\n",
    "#             single_scrape(model,make,location,startyears[i],endyears[i])\n",
    "            \n",
    "            makemodel = model\n",
    "            target_folder = os.path.join('scraped_page_src',make)\n",
    "            model_folder = os.path.join(target_folder,makemodel.replace('/','_'))            \n",
    "            target_page = os.path.join(model_folder,makemodel.replace('/','_')+str(startyears[i])+'-'+str(endyears[i])+'.html')\n",
    "            \n",
    "            make_model_dict = extract_data(target_page)\n",
    "            try:\n",
    "                df = df.append(pd.DataFrame(make_model_dict))\n",
    "                df = remove_na(df)\n",
    "            except:\n",
    "                pass\n",
    "        vehicle_data_frames[model]=df\n",
    "            \n",
    "#         input_df = df[['year', 'milage', 'price']].reset_index(drop=True)\n",
    "#         input_df = remove_na(input_df)\n",
    "#         reg = linear_model.LinearRegression()\n",
    "#         reg.fit(input_df[['year','milage']],input_df['price'])\n",
    "#         price_model[model] = [reg.coef_[0], reg.coef_[1],reg.intercept_]\n"
   ]
  },
  {
   "cell_type": "code",
   "execution_count": null,
   "metadata": {},
   "outputs": [],
   "source": []
  },
  {
   "cell_type": "code",
   "execution_count": 9,
   "metadata": {},
   "outputs": [],
   "source": [
    "with open('vehicle_dataframes1.pickle', 'rb') as handle:\n",
    "    b = pickle.load(handle)"
   ]
  },
  {
   "cell_type": "code",
   "execution_count": 19,
   "metadata": {},
   "outputs": [],
   "source": [
    "price_model={}\n",
    "for makemodel in list(vehicle_data_frames.keys()):\n",
    "    df = vehicle_data_frames[makemodel]\n",
    "    input_df = df[['year', 'milage', 'price']].reset_index(drop=True)\n",
    "    input_df = remove_na(input_df)\n",
    "    reg = linear_model.LinearRegression()\n",
    "    try:\n",
    "        reg.fit(input_df[['year','milage']],input_df['price'])\n",
    "        price_model[makemodel] = [reg.coef_[0], reg.coef_[1],reg.intercept_,len(input_df)]\n",
    "    except:\n",
    "        price_model[makemodel] = 'na'\n"
   ]
  },
  {
   "cell_type": "code",
   "execution_count": 17,
   "metadata": {},
   "outputs": [],
   "source": [
    "# # Store data (serialize)\n",
    "# with open('vehicle_dataframes_dict_final.pickle', 'wb') as handle:\n",
    "#     pickle.dump(vehicle_data_frames, handle, protocol=pickle.HIGHEST_PROTOCOL)\n",
    "\n",
    "# Load data (deserialize)\n",
    "with open('vehicle_dataframes_dict_final.pickle', 'rb') as handle:\n",
    "    unserialized_data = pickle.load(handle)"
   ]
  },
  {
   "cell_type": "code",
   "execution_count": 22,
   "metadata": {},
   "outputs": [],
   "source": []
  },
  {
   "cell_type": "code",
   "execution_count": 26,
   "metadata": {},
   "outputs": [
    {
     "data": {
      "text/plain": [
       "'acura/cl/'"
      ]
     },
     "execution_count": 26,
     "metadata": {},
     "output_type": "execute_result"
    }
   ],
   "source": [
    "make_models['Acura'][0]"
   ]
  },
  {
   "cell_type": "code",
   "execution_count": 31,
   "metadata": {},
   "outputs": [],
   "source": [
    "acura_cl = price_model[make_models['Acura'][0]]"
   ]
  },
  {
   "cell_type": "code",
   "execution_count": 32,
   "metadata": {},
   "outputs": [
    {
     "data": {
      "text/plain": [
       "[1332.9640426557621, -0.048131228802439835, 9229.899384938388, 8]"
      ]
     },
     "execution_count": 32,
     "metadata": {},
     "output_type": "execute_result"
    }
   ],
   "source": [
    "2005*acura_cl[0]+acura_cl[1]"
   ]
  },
  {
   "cell_type": "code",
   "execution_count": 34,
   "metadata": {},
   "outputs": [
    {
     "data": {
      "text/html": [
       "<div>\n",
       "<style scoped>\n",
       "    .dataframe tbody tr th:only-of-type {\n",
       "        vertical-align: middle;\n",
       "    }\n",
       "\n",
       "    .dataframe tbody tr th {\n",
       "        vertical-align: top;\n",
       "    }\n",
       "\n",
       "    .dataframe thead th {\n",
       "        text-align: right;\n",
       "    }\n",
       "</style>\n",
       "<table border=\"1\" class=\"dataframe\">\n",
       "  <thead>\n",
       "    <tr style=\"text-align: right;\">\n",
       "      <th></th>\n",
       "      <th>year</th>\n",
       "      <th>milage</th>\n",
       "      <th>price</th>\n",
       "    </tr>\n",
       "  </thead>\n",
       "  <tbody>\n",
       "    <tr>\n",
       "      <th>0</th>\n",
       "      <td>4.0</td>\n",
       "      <td>161851</td>\n",
       "      <td>4495</td>\n",
       "    </tr>\n",
       "    <tr>\n",
       "      <th>1</th>\n",
       "      <td>4.0</td>\n",
       "      <td>69200</td>\n",
       "      <td>8850</td>\n",
       "    </tr>\n",
       "    <tr>\n",
       "      <th>2</th>\n",
       "      <td>4.0</td>\n",
       "      <td>119535</td>\n",
       "      <td>6795</td>\n",
       "    </tr>\n",
       "    <tr>\n",
       "      <th>3</th>\n",
       "      <td>5.0</td>\n",
       "      <td>167437</td>\n",
       "      <td>3500</td>\n",
       "    </tr>\n",
       "    <tr>\n",
       "      <th>4</th>\n",
       "      <td>5.0</td>\n",
       "      <td>128000</td>\n",
       "      <td>5995</td>\n",
       "    </tr>\n",
       "    <tr>\n",
       "      <th>...</th>\n",
       "      <td>...</td>\n",
       "      <td>...</td>\n",
       "      <td>...</td>\n",
       "    </tr>\n",
       "    <tr>\n",
       "      <th>336</th>\n",
       "      <td>20.0</td>\n",
       "      <td>7830</td>\n",
       "      <td>50999</td>\n",
       "    </tr>\n",
       "    <tr>\n",
       "      <th>337</th>\n",
       "      <td>17.0</td>\n",
       "      <td>45806</td>\n",
       "      <td>40573</td>\n",
       "    </tr>\n",
       "    <tr>\n",
       "      <th>338</th>\n",
       "      <td>18.0</td>\n",
       "      <td>34996</td>\n",
       "      <td>44556</td>\n",
       "    </tr>\n",
       "    <tr>\n",
       "      <th>339</th>\n",
       "      <td>17.0</td>\n",
       "      <td>46659</td>\n",
       "      <td>36365</td>\n",
       "    </tr>\n",
       "    <tr>\n",
       "      <th>340</th>\n",
       "      <td>17.0</td>\n",
       "      <td>51839</td>\n",
       "      <td>37999</td>\n",
       "    </tr>\n",
       "  </tbody>\n",
       "</table>\n",
       "<p>261 rows × 3 columns</p>\n",
       "</div>"
      ],
      "text/plain": [
       "     year  milage  price\n",
       "0     4.0  161851   4495\n",
       "1     4.0   69200   8850\n",
       "2     4.0  119535   6795\n",
       "3     5.0  167437   3500\n",
       "4     5.0  128000   5995\n",
       "..    ...     ...    ...\n",
       "336  20.0    7830  50999\n",
       "337  17.0   45806  40573\n",
       "338  18.0   34996  44556\n",
       "339  17.0   46659  36365\n",
       "340  17.0   51839  37999\n",
       "\n",
       "[261 rows x 3 columns]"
      ]
     },
     "execution_count": 34,
     "metadata": {},
     "output_type": "execute_result"
    }
   ],
   "source": [
    "input_df"
   ]
  },
  {
   "cell_type": "code",
   "execution_count": null,
   "metadata": {},
   "outputs": [],
   "source": [
    "# inputs:\n",
    "#make/model\n",
    "#year\n",
    "#mialge\n",
    "#intercept"
   ]
  },
  {
   "cell_type": "code",
   "execution_count": 46,
   "metadata": {},
   "outputs": [],
   "source": [
    "with open('autotrader_make_models3.pickle', 'rb') as handle1:\n",
    "    make_models = pickle.load(handle1)\n",
    "\n",
    "with open('vehicle_pricing_model_dict.pickle', 'rb') as handle2:\n",
    "    price_model = pickle.load(handle2)\n",
    "def price_reccomendation(year, milage, make_model, pricing_model):\n",
    "    input_year = year-2000\n",
    "    coeffs = pricing_model[make_model]\n",
    "    price = input_year*coeffs[0] + milage*coeffs[1] + coeffs[2]\n",
    "    return(price)"
   ]
  },
  {
   "cell_type": "code",
   "execution_count": 54,
   "metadata": {},
   "outputs": [
    {
     "data": {
      "text/plain": [
       "11160.19265327198"
      ]
     },
     "execution_count": 54,
     "metadata": {},
     "output_type": "execute_result"
    }
   ],
   "source": [
    "year = 2015\n",
    "milage = 100000\n",
    "make_model = make_models['Toyota'][6]\n",
    "price_reccomendation(year, milage, make_model, price_model)"
   ]
  },
  {
   "cell_type": "code",
   "execution_count": 52,
   "metadata": {},
   "outputs": [
    {
     "data": {
      "text/plain": [
       "'toyota/corolla/'"
      ]
     },
     "execution_count": 52,
     "metadata": {},
     "output_type": "execute_result"
    }
   ],
   "source": []
  },
  {
   "cell_type": "code",
   "execution_count": 56,
   "metadata": {},
   "outputs": [
    {
     "data": {
      "text/plain": [
       "['tesla/model-3/', 'tesla/model-s/', 'tesla/model-x/', 'tesla/model-y/']"
      ]
     },
     "execution_count": 56,
     "metadata": {},
     "output_type": "execute_result"
    }
   ],
   "source": [
    "make_models['Tesla']"
   ]
  },
  {
   "cell_type": "code",
   "execution_count": 58,
   "metadata": {},
   "outputs": [
    {
     "data": {
      "text/plain": [
       "5.0"
      ]
     },
     "execution_count": 58,
     "metadata": {},
     "output_type": "execute_result"
    }
   ],
   "source": [
    "import math\n",
    "math.sqrt(25)%1"
   ]
  },
  {
   "cell_type": "code",
   "execution_count": 59,
   "metadata": {},
   "outputs": [
    {
     "name": "stdout",
     "output_type": "stream",
     "text": [
      "dlroW olleH\n"
     ]
    }
   ],
   "source": [
    "txt = \"Hello World\"[::-1]\n",
    "print(txt)"
   ]
  },
  {
   "cell_type": "code",
   "execution_count": 60,
   "metadata": {},
   "outputs": [],
   "source": [
    "def reverse(word):\n",
    "    return(word[::-1])"
   ]
  },
  {
   "cell_type": "code",
   "execution_count": 61,
   "metadata": {},
   "outputs": [
    {
     "data": {
      "text/plain": [
       "'gninokerhs'"
      ]
     },
     "execution_count": 61,
     "metadata": {},
     "output_type": "execute_result"
    }
   ],
   "source": []
  },
  {
   "cell_type": "code",
   "execution_count": 68,
   "metadata": {},
   "outputs": [],
   "source": [
    "def spin_words(sentence):\n",
    "    sentence_list = []\n",
    "    split_sentence = sentence.split(' ')\n",
    "    for word in split_sentence:\n",
    "        sentence_list.append(word)\n",
    "        sentence_list.append(' ')\n",
    "    sentence_list = sentence_list[:-1]\n",
    "    return(sentence_list)\n"
   ]
  },
  {
   "cell_type": "code",
   "execution_count": 69,
   "metadata": {},
   "outputs": [
    {
     "data": {
      "text/plain": [
       "['shrek', ' ', 'is', ' ', 'love', ' ', 'shrek', ' ', 'is', ' ', 'life']"
      ]
     },
     "execution_count": 69,
     "metadata": {},
     "output_type": "execute_result"
    }
   ],
   "source": [
    "spin_words('shrek is love shrek is life')"
   ]
  },
  {
   "cell_type": "code",
   "execution_count": 74,
   "metadata": {},
   "outputs": [
    {
     "data": {
      "text/plain": [
       "False"
      ]
     },
     "execution_count": 74,
     "metadata": {},
     "output_type": "execute_result"
    }
   ],
   "source": [
    "5 >=6"
   ]
  },
  {
   "cell_type": "code",
   "execution_count": 76,
   "metadata": {},
   "outputs": [
    {
     "data": {
      "text/plain": [
       "2"
      ]
     },
     "execution_count": 76,
     "metadata": {},
     "output_type": "execute_result"
    }
   ],
   "source": [
    "eval('1+1')"
   ]
  },
  {
   "cell_type": "code",
   "execution_count": null,
   "metadata": {},
   "outputs": [],
   "source": []
  }
 ],
 "metadata": {
  "kernelspec": {
   "display_name": "Python 3",
   "language": "python",
   "name": "python3"
  },
  "language_info": {
   "codemirror_mode": {
    "name": "ipython",
    "version": 3
   },
   "file_extension": ".py",
   "mimetype": "text/x-python",
   "name": "python",
   "nbconvert_exporter": "python",
   "pygments_lexer": "ipython3",
   "version": "3.8.3"
  }
 },
 "nbformat": 4,
 "nbformat_minor": 4
}
