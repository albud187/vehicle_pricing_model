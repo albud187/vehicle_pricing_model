{
 "cells": [
  {
   "cell_type": "code",
   "execution_count": 2,
   "metadata": {},
   "outputs": [],
   "source": [
    "import os\n",
    "from selenium import webdriver\n",
    "from selenium.webdriver.common.keys import Keys\n",
    "import time\n",
    "\n",
    "import requests\n",
    "from bs4 import BeautifulSoup\n",
    "import pandas as pd\n",
    "import random\n",
    "from selenium import webdriver\n",
    "from selenium.webdriver.common.action_chains import ActionChains\n",
    "from selenium.webdriver.common.keys import Keys\n",
    "import pickle\n",
    "import scrapy\n",
    "import json\n",
    "\n",
    "base_url = 'https://www.kijijiautos.ca/cars/'\n",
    "with open('make_models2.pickle', 'rb') as handle:\n",
    "    make_models = pickle.load(handle)\n",
    "src_folder = 'scraped_page_source'\n",
    "\n",
    "chromrdriver = r\"C:\\Users\\alfab\\Documents\\chromedriver.exe\"\n",
    "os.environ[\"webdriver.chrome.driver\"] = chromrdriver"
   ]
  },
  {
   "cell_type": "code",
   "execution_count": 6,
   "metadata": {},
   "outputs": [],
   "source": [
    "MakeModel = make_models['ford'][2]\n",
    "target_url = base_url+MakeModel"
   ]
  },
  {
   "cell_type": "code",
   "execution_count": null,
   "metadata": {},
   "outputs": [],
   "source": [
    "htmlClassDict = {\"name\":\"_3jBWYAEU6W4f4h0_uQWlSw\",\n",
    "                \"price\":\"_2jW16MbPwMNWwr9gXaKCbP\",\n",
    "                \"milage\":\"_3hoJ6DuW70ccYWAT2U4Oi7 og5qvVuHyRgSm59reAG-n\"}"
   ]
  },
  {
   "cell_type": "code",
   "execution_count": null,
   "metadata": {},
   "outputs": [],
   "source": [
    "class SpidyQuotesSpider(scrapy.Spider):\n",
    "    name = 'ford_c-max'\n",
    "    quotes_base_url = target)url\n",
    "    start_urls = [quotes_base_url % 1]\n",
    "    download_delay = 1.5\n",
    " \n",
    "    def parse(self, response):\n",
    "        data = json.loads(response.body)\n",
    "        for item in data.get('quotes', []):\n",
    "            yield {\n",
    "                'text': item.get('text'),\n",
    "                'author': item.get('author', {}).get('name'),\n",
    "                'tags': item.get('tags'),\n",
    "            }\n",
    "        if data['has_next']:\n",
    "            next_page = data['page'] + 1\n",
    "            yield scrapy.Request(self.quotes_base_url % next_page)"
   ]
  }
 ],
 "metadata": {
  "kernelspec": {
   "display_name": "Python 3",
   "language": "python",
   "name": "python3"
  },
  "language_info": {
   "codemirror_mode": {
    "name": "ipython",
    "version": 3
   },
   "file_extension": ".py",
   "mimetype": "text/x-python",
   "name": "python",
   "nbconvert_exporter": "python",
   "pygments_lexer": "ipython3",
   "version": "3.8.3"
  }
 },
 "nbformat": 4,
 "nbformat_minor": 4
}
