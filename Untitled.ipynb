{
 "cells": [
  {
   "cell_type": "code",
   "execution_count": 1,
   "metadata": {},
   "outputs": [],
   "source": [
    "import os\n",
    "from selenium import webdriver\n",
    "from selenium.webdriver.common.keys import Keys\n",
    "import time"
   ]
  },
  {
   "cell_type": "code",
   "execution_count": 6,
   "metadata": {
    "scrolled": true
   },
   "outputs": [],
   "source": [
    "chromrdriver = r\"C:\\Users\\alfab\\Documents\\chromedriver.exe\"\n",
    "os.environ[\"webdriver.chrome.driver\"] = chromrdriver\n",
    "driver = webdriver.Chrome(chromrdriver)\n",
    "url = \"https://www.kijijiautos.ca/cars/toyota/camry/\"\n",
    "driver.get(url)\n",
    "\n",
    "src_folder = 'scraped_page_source/'\n",
    "\n",
    "ScrollNumber = 4\n",
    "for i in range(1,ScrollNumber):\n",
    "    driver.execute_script(\"window.scrollTo(1,50000)\")\n",
    "    time.sleep(0.25)\n",
    "\n",
    "# file = open('DS.html', 'w')\n",
    "# file.write(driver.page_source)\n",
    "# file.close()\n",
    "\n",
    "# with open(\"page_source.html\", \"w\", encoding='utf-8') as f:\n",
    "#     f.write(driver.page_source)\n",
    "\n",
    "driver.close()"
   ]
  },
  {
   "cell_type": "code",
   "execution_count": 9,
   "metadata": {},
   "outputs": [],
   "source": [
    "import urllib3\n",
    "from bs4 import BeautifulSoup\n",
    "import csv\n",
    "http=urllib3.PoolManager()\n",
    "\n",
    "def scrape():\n",
    "    data = open('/home/DS.html','r')\n",
    "    soup = BeautifulSoup(data, 'html.parser')\n",
    "    for links in soup.find_all('div', {'class': 'postArticle-readMore'}):\n",
    "        link = links.find('a').get('href')\n",
    "        Blog_post(link)\n",
    "\n",
    "def Blog_post(link):\n",
    "    try:\n",
    "        print(link)\n",
    "        blogData = http.request('GET', link)\n",
    "        soup = BeautifulSoup(blogData.data, 'html.parser')\n",
    "        article = ''\n",
    "        tags = []\n",
    "        heading = soup.find('h1').text\n",
    "        for para in soup.find_all('p'):\n",
    "            p = para.text\n",
    "        p = p.strip('/u')\n",
    "        article = article + ' ' + p\n",
    "        for mtags in soup.find_all('a', {'class ': 'link u - baseColor — link'}):\n",
    "            tags.append(mtags.text)\n",
    "            # CreateDataFrame(list())\n",
    "            someList = [heading, article, tuple(tags)]\n",
    "            # print(someList[0])\n",
    "            CreateDataFrame(someList)\n",
    "    except:\n",
    "        pass"
   ]
  },
  {
   "cell_type": "code",
   "execution_count": 10,
   "metadata": {},
   "outputs": [],
   "source": [
    "url=['https://medium.com/search?q=data%20science',\n",
    "      'https://medium.com/search?q=big%20data',\n",
    "      'https://medium.com/search?q=deep%20learning']"
   ]
  },
  {
   "cell_type": "code",
   "execution_count": 11,
   "metadata": {},
   "outputs": [],
   "source": [
    "import pandas as pd\n",
    "from pandas import DataFrame\n",
    "column=['Title','Body']\n",
    "dfBA=DataFrame(columns=column)\n",
    "dfT=DataFrame(columns=[0,1,2,3,4])\n",
    "content=[]\n",
    "def CreateDataFrame(someList):\n",
    "        t={}\n",
    "        d={'Title':[someList[0]],'Body':[someList[1]]}\n",
    "        for n in range(5):\n",
    "            if len(someList[2])>n:\n",
    "                t[n]=[someList[2][n]]\n",
    "            else:\n",
    "                t[n]=['0']\n",
    "        toDf=DataFrame(data=d)\n",
    "        global dfBA,dfT"
   ]
  },
  {
   "cell_type": "code",
   "execution_count": 14,
   "metadata": {},
   "outputs": [
    {
     "ename": "NameError",
     "evalue": "name 'toDf' is not defined",
     "output_type": "error",
     "traceback": [
      "\u001b[1;31m---------------------------------------------------------------------------\u001b[0m",
      "\u001b[1;31mNameError\u001b[0m                                 Traceback (most recent call last)",
      "\u001b[1;32m<ipython-input-14-51781b4192d6>\u001b[0m in \u001b[0;36m<module>\u001b[1;34m\u001b[0m\n\u001b[1;32m----> 1\u001b[1;33m \u001b[0mdfBA\u001b[0m\u001b[1;33m=\u001b[0m\u001b[0mdfBA\u001b[0m\u001b[1;33m.\u001b[0m\u001b[0mappend\u001b[0m\u001b[1;33m(\u001b[0m\u001b[0mtoDf\u001b[0m\u001b[1;33m)\u001b[0m\u001b[1;33m\u001b[0m\u001b[1;33m\u001b[0m\u001b[0m\n\u001b[0m\u001b[0;32m      2\u001b[0m \u001b[0mprint\u001b[0m\u001b[1;33m(\u001b[0m\u001b[0mdfBA\u001b[0m\u001b[1;33m)\u001b[0m\u001b[1;33m\u001b[0m\u001b[1;33m\u001b[0m\u001b[0m\n\u001b[0;32m      3\u001b[0m \u001b[0mdfT\u001b[0m\u001b[1;33m=\u001b[0m\u001b[0mdfT\u001b[0m\u001b[1;33m.\u001b[0m\u001b[0mappend\u001b[0m\u001b[1;33m(\u001b[0m\u001b[0mDataFrame\u001b[0m\u001b[1;33m(\u001b[0m\u001b[0mdata\u001b[0m\u001b[1;33m=\u001b[0m\u001b[0mt\u001b[0m\u001b[1;33m)\u001b[0m\u001b[1;33m)\u001b[0m\u001b[1;33m\u001b[0m\u001b[1;33m\u001b[0m\u001b[0m\n\u001b[0;32m      4\u001b[0m \u001b[1;33m\u001b[0m\u001b[0m\n\u001b[0;32m      5\u001b[0m \u001b[0mokList\u001b[0m \u001b[1;33m=\u001b[0m \u001b[1;33m[\u001b[0m\u001b[1;33m]\u001b[0m\u001b[1;33m\u001b[0m\u001b[1;33m\u001b[0m\u001b[0m\n",
      "\u001b[1;31mNameError\u001b[0m: name 'toDf' is not defined"
     ]
    }
   ],
   "source": [
    "dfBA=dfBA.append(toDf)\n",
    "print(dfBA)\n",
    "dfT=dfT.append(DataFrame(data=t))\n",
    "\n",
    "okList = []\n",
    "for cl in dfT.columns:\n",
    "    for n in dfT[cl]:\n",
    "        okList.append(n)\n",
    "okList = list(set(okList))\n",
    "newDFT = DataFrame(columns=okList)\n",
    "for x in range(dfT.count()[0]):\n",
    "    someDict = {}\n",
    "    for d in okList:\n",
    "        rowdata = list(dfT.iloc[x])\n",
    "        if d in rowdata:\n",
    "            someDict[d] = 1\n",
    "        else:\n",
    "            someDict[d] = 0\n",
    "    newDFT = newDFT.append(someDict, ignore_index=True)\n",
    "newDFT.to_csv('DSTags.csv')\n",
    "\n",
    "for column in dfBA.columns:\n",
    "    for idx in dfBA[column].index:\n",
    "        dfBA.get_value(idx, column)\n",
    "\n",
    "dfBA.to_csv('RData.csv')"
   ]
  },
  {
   "cell_type": "code",
   "execution_count": null,
   "metadata": {},
   "outputs": [],
   "source": []
  }
 ],
 "metadata": {
  "kernelspec": {
   "display_name": "Python 3",
   "language": "python",
   "name": "python3"
  },
  "language_info": {
   "codemirror_mode": {
    "name": "ipython",
    "version": 3
   },
   "file_extension": ".py",
   "mimetype": "text/x-python",
   "name": "python",
   "nbconvert_exporter": "python",
   "pygments_lexer": "ipython3",
   "version": "3.8.3"
  }
 },
 "nbformat": 4,
 "nbformat_minor": 4
}
