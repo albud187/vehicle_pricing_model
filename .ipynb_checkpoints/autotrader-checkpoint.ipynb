{
 "cells": [
  {
   "cell_type": "code",
   "execution_count": 3,
   "metadata": {},
   "outputs": [],
   "source": [
    "import os\n",
    "from selenium import webdriver\n",
    "from selenium.webdriver.common.keys import Keys\n",
    "import time\n",
    "\n",
    "import requests\n",
    "from bs4 import BeautifulSoup\n",
    "import pandas as pd\n",
    "import random\n",
    "from selenium import webdriver\n",
    "from selenium.webdriver.common.action_chains import ActionChains\n",
    "from selenium.webdriver.common.keys import Keys\n",
    "import pickle\n",
    "import scrapy\n",
    "import json\n",
    "\n",
    "with open('make_models2.pickle', 'rb') as handle:\n",
    "    make_models = pickle.load(handle)\n",
    "\n",
    "chromrdriver = r\"C:\\Users\\alfab\\Documents\\chromedriver.exe\"\n",
    "os.environ[\"webdriver.chrome.driver\"] = chromrdriver"
   ]
  },
  {
   "cell_type": "code",
   "execution_count": 36,
   "metadata": {},
   "outputs": [],
   "source": [
    "#create file structure\n",
    "\n",
    "#page_src --> make --> model ---> make_model_0.html, make_model_1.html, make_model_2.html,,,,,\n",
    "# for make in list(make_models.keys()):\n",
    "#      os.makedirs(os.path.join(src_folder,make))\n",
    "\n",
    "for make in list(make_models.keys()):\n",
    "    make_path = os.path.join(src_folder,make)\n",
    "    for model in make_models[make]:\n",
    "         os.makedirs(os.path.join(make_path,model.replace('/','_')))"
   ]
  },
  {
   "cell_type": "code",
   "execution_count": 37,
   "metadata": {},
   "outputs": [],
   "source": [
    "target_url = get_url(make_models['toyota'][2],0)\n",
    "chromrdriver = r\"C:\\Users\\alfab\\Documents\\chromedriver.exe\"\n",
    "os.environ[\"webdriver.chrome.driver\"] = chromrdriver\n",
    "driver = webdriver.Chrome(chromrdriver)\n",
    "driver.get(target_url)"
   ]
  },
  {
   "cell_type": "code",
   "execution_count": 83,
   "metadata": {},
   "outputs": [],
   "source": [
    "def get_url(makemodel,page_num):\n",
    "    base='https://www.autotrader.com/cars-for-sale/all-cars/'\n",
    "    PageNumberString = str(page_num*100)\n",
    "    remainder = 'washington-dc-20500?dma=&maxMileage=200000&searchRadius=0&location=&marketExtension=include&isNewSearch=false&showAccelerateBanner=false&sortBy=relevance&numRecords=100&firstRecord='+PageNumberString\n",
    "    return(base+makemodel+remainder)\n",
    "\n",
    "def scrape(makemodel,pages,driver):\n",
    "    make = makemodel.split('/')[0]\n",
    "    target_folder = os.path.join('scraped_page_source',make)\n",
    "    model_folder = os.path.join(target_folder,makemodel.replace('/','_'))\n",
    "    print(model_folder)\n",
    "    for page in range(pages+1):\n",
    "        target_url = get_url(makemodel,page)\n",
    "        driver.get(target_url)\n",
    "        file = open(os.path.join(model_folder,makemodel.replace('/','_')+str(page)+'.html'),'w',encoding = 'utf-8')\n",
    "        file.write(driver.page_source)\n",
    "        time.sleep(6)\n",
    "\n",
    "def single_scrape(makemodel,page,driver):\n",
    "    make = makemodel.split('/')[0]\n",
    "    target_folder = os.path.join('scraped_page_source',make)\n",
    "    model_folder = os.path.join(target_folder,makemodel.replace('/','_'))\n",
    "    print(model_folder)\n",
    "    \n",
    "    target_url = get_url(makemodel,page)\n",
    "    driver.get(target_url)\n",
    "    file = open(os.path.join(model_folder,makemodel.replace('/','_')+str(page)+'.html'),'w',encoding = 'utf-8')\n",
    "    file.write(driver.page_source)\n",
    "    time.sleep(6)     "
   ]
  },
  {
   "cell_type": "code",
   "execution_count": 54,
   "metadata": {},
   "outputs": [],
   "source": [
    "MakeModel = make_models['toyota'][2]\n",
    "make = MakeModel.split('/')[0]\n",
    "target_folder = os.path.join('scraped_page_source',make)\n",
    "model_folder = os.path.join(target_folder,MakeModel.replace('/','_'))"
   ]
  },
  {
   "cell_type": "code",
   "execution_count": 91,
   "metadata": {},
   "outputs": [],
   "source": [
    "def extract_data(target_page):\n",
    "    data = open(target_page,'r',encoding='utf-8')\n",
    "    soup = BeautifulSoup(data, 'html.parser')\n",
    "    names_data = soup.find_all(\"div\", {\"class\":\"display-flex justify-content-between\"})\n",
    "    prices_data = soup.find_all(\"span\", {\"class\":\"first-price\"})\n",
    "    milage_infos_data = soup.find_all(\"div\", {\"class\":\"item-card-specifications col-xs-9 margin-top-4 text-subdued-lighter margin-bottom-3\"})\n",
    "    \n",
    "    names = []\n",
    "    prices = []\n",
    "    milage_infos = []\n",
    "    for i in range(len(names_data)):\n",
    "        names.append(names_data[i].text)\n",
    "        prices.append(prices_data[i].text)\n",
    "        milage_infos.append(milage_infos_data[i].text)\n",
    "    return({\"names\":names,\"prices\":prices,\"milages\":milage_infos})"
   ]
  },
  {
   "cell_type": "code",
   "execution_count": 96,
   "metadata": {},
   "outputs": [],
   "source": [
    "base='https://www.autotrader.com/cars-for-sale/all-cars/'\n",
    "makes = list(make_models.keys())"
   ]
  },
  {
   "cell_type": "code",
   "execution_count": 146,
   "metadata": {},
   "outputs": [],
   "source": [
    "data = open('autotrader_base.html','r',encoding='utf-8')\n",
    "soup = BeautifulSoup(data, 'html.parser')\n",
    "all_makes = soup.find_all(\"optgroup\", {\"label\":\"Popular Makes\"})[0].contents\n",
    "for i in range(len(all_makes)):\n",
    "    all_makes[i] = all_makes[i].text"
   ]
  },
  {
   "cell_type": "code",
   "execution_count": 161,
   "metadata": {},
   "outputs": [
    {
     "name": "stdout",
     "output_type": "stream",
     "text": [
      "auto_trader_base_pages\\BMW.html\n"
     ]
    }
   ],
   "source": [
    "base_folder = 'auto_trader_base_pages'\n",
    "\n",
    "# file = open(os.path.join(model_folder,makemodel.replace('/','_')+str(page)+'.html'),'w',encoding = 'utf-8')\n",
    "print(make_file_path)"
   ]
  },
  {
   "cell_type": "code",
   "execution_count": 162,
   "metadata": {},
   "outputs": [],
   "source": [
    "for make in all_makes:\n",
    "    target_url = 'https://www.autotrader.com/cars-for-sale/all-cars/'+make\n",
    "    chromrdriver = r\"C:\\Users\\alfab\\Documents\\chromedriver.exe\"\n",
    "    os.environ[\"webdriver.chrome.driver\"] = chromrdriver\n",
    "    driver = webdriver.Chrome(chromrdriver)\n",
    "    driver.get(target_url)\n",
    "    make_file_path = os.path.join(base_folder,make+'.html')\n",
    "    file = open(make_file_path,'w',encoding='utf-8')\n",
    "    file.write(driver.page_source)\n",
    "    driver.close()\n",
    "\n"
   ]
  },
  {
   "cell_type": "code",
   "execution_count": null,
   "metadata": {},
   "outputs": [],
   "source": [
    "auto_trader_make_models = {}\n",
    "for make in all_makes:\n",
    "    file = os.path.join(base_folder,make+'.html')\n",
    "    data = open(file,'r',encoding='utf-8')\n",
    "    soup = BeautifulSoup(data, 'html.parser')\n",
    "    auto_trader_make_models[make] = []\n",
    "    for link in soup.find_all(\"a\",{\"data-birf-cmp\":\"crp_make_mdl\"}):\n",
    "        makemodel = link.attrs['href']\n",
    "        auto_trader_make_models[make].append(makemodel)\n",
    "    print(make)"
   ]
  },
  {
   "cell_type": "code",
   "execution_count": 309,
   "metadata": {},
   "outputs": [],
   "source": [
    "# import pickle\n",
    "\n",
    "with open('autotrader_make_models2.pickle', 'wb') as handle:\n",
    "      pickle.dump(auto_trader_make_models, handle, protocol=pickle.HIGHEST_PROTOCOL)\n",
    "\n",
    "with open('autotrader_make_models2.pickle', 'rb') as handle:\n",
    "    b = pickle.load(handle)"
   ]
  },
  {
   "cell_type": "code",
   "execution_count": 319,
   "metadata": {},
   "outputs": [
    {
     "data": {
      "text/plain": [
       "'acura/cl/'"
      ]
     },
     "execution_count": 319,
     "metadata": {},
     "output_type": "execute_result"
    }
   ],
   "source": [
    "b['Acura'][0][24:]+'/'"
   ]
  },
  {
   "cell_type": "code",
   "execution_count": null,
   "metadata": {},
   "outputs": [],
   "source": []
  }
 ],
 "metadata": {
  "kernelspec": {
   "display_name": "Python 3",
   "language": "python",
   "name": "python3"
  },
  "language_info": {
   "codemirror_mode": {
    "name": "ipython",
    "version": 3
   },
   "file_extension": ".py",
   "mimetype": "text/x-python",
   "name": "python",
   "nbconvert_exporter": "python",
   "pygments_lexer": "ipython3",
   "version": "3.8.3"
  }
 },
 "nbformat": 4,
 "nbformat_minor": 4
}
