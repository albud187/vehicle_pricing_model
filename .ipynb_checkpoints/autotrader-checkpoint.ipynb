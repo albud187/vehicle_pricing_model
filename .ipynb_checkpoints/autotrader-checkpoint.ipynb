{
 "cells": [
  {
   "cell_type": "code",
   "execution_count": 1,
   "metadata": {},
   "outputs": [],
   "source": [
    "import os\n",
    "from selenium import webdriver\n",
    "from selenium.webdriver.common.keys import Keys\n",
    "import time\n",
    "\n",
    "import requests\n",
    "from bs4 import BeautifulSoup\n",
    "import pandas as pd\n",
    "import random\n",
    "from selenium import webdriver\n",
    "from selenium.webdriver.common.action_chains import ActionChains\n",
    "from selenium.webdriver.common.keys import Keys\n",
    "import pickle\n",
    "import scrapy\n",
    "import json\n",
    "\n",
    "with open('autotrader_make_models3.pickle', 'rb') as handle:\n",
    "    make_models = pickle.load(handle)\n",
    "\n",
    "chromrdriver = r\"C:\\Users\\alfab\\Documents\\chromedriver.exe\"\n",
    "os.environ[\"webdriver.chrome.driver\"] = chromrdriver"
   ]
  },
  {
   "cell_type": "code",
   "execution_count": 32,
   "metadata": {},
   "outputs": [],
   "source": [
    "import pickle\n",
    "with open('autotrader_make_models3.pickle', 'rb') as handle:\n",
    "    make_models = pickle.load(handle)"
   ]
  },
  {
   "cell_type": "code",
   "execution_count": 3,
   "metadata": {},
   "outputs": [],
   "source": [
    "#create file structure\n",
    "src_folder = 'scraped_page_src'\n",
    "#page_src --> make --> model ---> make_model_0.html, make_model_1.html, make_model_2.html,,,,,\n",
    "for make in list(make_models.keys()):\n",
    "     os.makedirs(os.path.join(src_folder,make))\n",
    "\n",
    "for make in list(make_models.keys()):\n",
    "    make_path = os.path.join(src_folder,make)\n",
    "    for model in make_models[make]:\n",
    "         os.makedirs(os.path.join(make_path,model.replace('/','_')))"
   ]
  },
  {
   "cell_type": "code",
   "execution_count": 37,
   "metadata": {},
   "outputs": [],
   "source": [
    "target_url = get_url(make_models['toyota'][2],0)\n",
    "chromrdriver = r\"C:\\Users\\alfab\\Documents\\chromedriver.exe\"\n",
    "os.environ[\"webdriver.chrome.driver\"] = chromrdriver\n",
    "driver = webdriver.Chrome(chromrdriver)\n",
    "driver.get(target_url)"
   ]
  },
  {
   "cell_type": "code",
   "execution_count": 36,
   "metadata": {},
   "outputs": [
    {
     "data": {
      "text/plain": [
       "'https://www.autotrader.com/cars-for-sale/all-cars/toyota/camry/washington-dc-20500?dma=&maxMileage=200000&searchRadius=0&location=&marketExtension=include&endYear=2021&startYear=2018&isNewSearch=true&showAccelerateBanner=false&sortBy=relevance&numRecords=100'"
      ]
     },
     "execution_count": 36,
     "metadata": {},
     "output_type": "execute_result"
    }
   ],
   "source": [
    "makemodel = make_models['Toyota'][4]\n",
    "get_url(makemodel,location,2018,2021)"
   ]
  },
  {
   "cell_type": "code",
   "execution_count": 92,
   "metadata": {},
   "outputs": [],
   "source": [
    "# def get_url(makemodel,page_num):\n",
    "#     base='https://www.autotrader.com/cars-for-sale/all-cars/'\n",
    "#     PageNumberString = str(page_num*100)\n",
    "#     remainder = 'washington-dc-20500?dma=&maxMileage=200000&searchRadius=0&location=&marketExtension=include&isNewSearch=false&showAccelerateBanner=false&sortBy=relevance&numRecords=100&firstRecord='+PageNumberString\n",
    "#     return(base+makemodel+remainder)\n",
    "location='washington-dc-20500'\n",
    "def get_url(makemodel,location,startyear,endyear):\n",
    "    base_url = 'https://www.autotrader.com/cars-for-sale/all-cars/'\n",
    "    location_text = location+'?dma=&maxMileage=200000&searchRadius=0&location=&marketExtension=include&'\n",
    "    date_range = 'endYear='+str(endyear)+'&startYear='+str(startyear)\n",
    "    page_info ='&isNewSearch=true&showAccelerateBanner=false&sortBy=relevance&numRecords=100'\n",
    "    return(base_url+makemodel+location_text+date_range+page_info)\n",
    "\n",
    "def single_scrape(makemodel,make,location,startyear,endyear):\n",
    "    target_folder = os.path.join('scraped_page_src',make)\n",
    "    model_folder = os.path.join(target_folder,makemodel.replace('/','_'))\n",
    "    \n",
    "    target_url = get_url(makemodel,location,startyear,endyear)\n",
    "    chromrdriver = r\"C:\\Users\\alfab\\Documents\\chromedriver.exe\"\n",
    "    os.environ[\"webdriver.chrome.driver\"] = chromrdriver\n",
    "    driver = webdriver.Chrome(chromrdriver)\n",
    "    driver.get(target_url)\n",
    "    \n",
    "    file = open(os.path.join(model_folder,makemodel.replace('/','_')+str(startyear)+'-'+str(endyear)+'.html'),'w',encoding = 'utf-8')\n",
    "    file.write(driver.page_source)\n",
    "    file.close()\n",
    "#     time.sleep(6)\n",
    "    driver.close()\n",
    "    "
   ]
  },
  {
   "cell_type": "code",
   "execution_count": null,
   "metadata": {},
   "outputs": [],
   "source": [
    "https://www.autotrader.com/cars-for-sale/all-cars/acura/\n",
    "    \n",
    "0498c-mailers-s-99-99999?dma=&searchRadius=0&isNewSearch=true&marketExtension=include&showAccelerateBanner=false&sortBy=relevance&numRecords=25"
   ]
  },
  {
   "cell_type": "code",
   "execution_count": 91,
   "metadata": {},
   "outputs": [
    {
     "name": "stdout",
     "output_type": "stream",
     "text": [
      "https://www.autotrader.com/cars-for-sale/all-cars/toyota/camry/0498c-mailers-s-99-99999?dma=&maxMileage=200000&searchRadius=0&location=&marketExtension=include&endYear=2020&startYear=2015&isNewSearch=true&showAccelerateBanner=false&sortBy=relevance&numRecords=100\n"
     ]
    }
   ],
   "source": [
    "single_scrape(make_models['Toyota'][4],'Toyota', location, 2015,2020)\n",
    "print(get_url(make_models['Toyota'][4], location, 2015,2020))"
   ]
  },
  {
   "cell_type": "code",
   "execution_count": 93,
   "metadata": {},
   "outputs": [
    {
     "ename": "NoSuchWindowException",
     "evalue": "Message: no such window: target window already closed\nfrom unknown error: web view not found\n  (Session info: chrome=85.0.4183.121)\n",
     "output_type": "error",
     "traceback": [
      "\u001b[1;31m---------------------------------------------------------------------------\u001b[0m",
      "\u001b[1;31mNoSuchWindowException\u001b[0m                     Traceback (most recent call last)",
      "\u001b[1;32m<ipython-input-93-485db03d0bdb>\u001b[0m in \u001b[0;36m<module>\u001b[1;34m\u001b[0m\n\u001b[0;32m      9\u001b[0m     \u001b[1;32mfor\u001b[0m \u001b[0mmodel\u001b[0m \u001b[1;32min\u001b[0m \u001b[0mmake_models\u001b[0m\u001b[1;33m[\u001b[0m\u001b[0mmake\u001b[0m\u001b[1;33m]\u001b[0m\u001b[1;33m:\u001b[0m\u001b[1;33m\u001b[0m\u001b[1;33m\u001b[0m\u001b[0m\n\u001b[0;32m     10\u001b[0m         \u001b[0msingle_scrape\u001b[0m\u001b[1;33m(\u001b[0m\u001b[0mmodel\u001b[0m\u001b[1;33m,\u001b[0m\u001b[0mmake\u001b[0m\u001b[1;33m,\u001b[0m\u001b[0mlocation\u001b[0m\u001b[1;33m,\u001b[0m\u001b[0mstartyear1\u001b[0m\u001b[1;33m,\u001b[0m\u001b[0mendyear1\u001b[0m\u001b[1;33m)\u001b[0m\u001b[1;33m\u001b[0m\u001b[1;33m\u001b[0m\u001b[0m\n\u001b[1;32m---> 11\u001b[1;33m         \u001b[0msingle_scrape\u001b[0m\u001b[1;33m(\u001b[0m\u001b[0mmodel\u001b[0m\u001b[1;33m,\u001b[0m\u001b[0mmake\u001b[0m\u001b[1;33m,\u001b[0m\u001b[0mlocation\u001b[0m\u001b[1;33m,\u001b[0m\u001b[0mstartyear2\u001b[0m\u001b[1;33m,\u001b[0m\u001b[0mendyear2\u001b[0m\u001b[1;33m)\u001b[0m\u001b[1;33m\u001b[0m\u001b[1;33m\u001b[0m\u001b[0m\n\u001b[0m",
      "\u001b[1;32m<ipython-input-92-aa43d07883aa>\u001b[0m in \u001b[0;36msingle_scrape\u001b[1;34m(makemodel, make, location, startyear, endyear)\u001b[0m\n\u001b[0;32m     23\u001b[0m \u001b[1;33m\u001b[0m\u001b[0m\n\u001b[0;32m     24\u001b[0m     \u001b[0mfile\u001b[0m \u001b[1;33m=\u001b[0m \u001b[0mopen\u001b[0m\u001b[1;33m(\u001b[0m\u001b[0mos\u001b[0m\u001b[1;33m.\u001b[0m\u001b[0mpath\u001b[0m\u001b[1;33m.\u001b[0m\u001b[0mjoin\u001b[0m\u001b[1;33m(\u001b[0m\u001b[0mmodel_folder\u001b[0m\u001b[1;33m,\u001b[0m\u001b[0mmakemodel\u001b[0m\u001b[1;33m.\u001b[0m\u001b[0mreplace\u001b[0m\u001b[1;33m(\u001b[0m\u001b[1;34m'/'\u001b[0m\u001b[1;33m,\u001b[0m\u001b[1;34m'_'\u001b[0m\u001b[1;33m)\u001b[0m\u001b[1;33m+\u001b[0m\u001b[0mstr\u001b[0m\u001b[1;33m(\u001b[0m\u001b[0mstartyear\u001b[0m\u001b[1;33m)\u001b[0m\u001b[1;33m+\u001b[0m\u001b[1;34m'-'\u001b[0m\u001b[1;33m+\u001b[0m\u001b[0mstr\u001b[0m\u001b[1;33m(\u001b[0m\u001b[0mendyear\u001b[0m\u001b[1;33m)\u001b[0m\u001b[1;33m+\u001b[0m\u001b[1;34m'.html'\u001b[0m\u001b[1;33m)\u001b[0m\u001b[1;33m,\u001b[0m\u001b[1;34m'w'\u001b[0m\u001b[1;33m,\u001b[0m\u001b[0mencoding\u001b[0m \u001b[1;33m=\u001b[0m \u001b[1;34m'utf-8'\u001b[0m\u001b[1;33m)\u001b[0m\u001b[1;33m\u001b[0m\u001b[1;33m\u001b[0m\u001b[0m\n\u001b[1;32m---> 25\u001b[1;33m     \u001b[0mfile\u001b[0m\u001b[1;33m.\u001b[0m\u001b[0mwrite\u001b[0m\u001b[1;33m(\u001b[0m\u001b[0mdriver\u001b[0m\u001b[1;33m.\u001b[0m\u001b[0mpage_source\u001b[0m\u001b[1;33m)\u001b[0m\u001b[1;33m\u001b[0m\u001b[1;33m\u001b[0m\u001b[0m\n\u001b[0m\u001b[0;32m     26\u001b[0m     \u001b[0mfile\u001b[0m\u001b[1;33m.\u001b[0m\u001b[0mclose\u001b[0m\u001b[1;33m(\u001b[0m\u001b[1;33m)\u001b[0m\u001b[1;33m\u001b[0m\u001b[1;33m\u001b[0m\u001b[0m\n\u001b[0;32m     27\u001b[0m \u001b[1;31m#     time.sleep(6)\u001b[0m\u001b[1;33m\u001b[0m\u001b[1;33m\u001b[0m\u001b[1;33m\u001b[0m\u001b[0m\n",
      "\u001b[1;32m~\\anaconda3\\lib\\site-packages\\selenium\\webdriver\\remote\\webdriver.py\u001b[0m in \u001b[0;36mpage_source\u001b[1;34m(self)\u001b[0m\n\u001b[0;32m    677\u001b[0m             \u001b[0mdriver\u001b[0m\u001b[1;33m.\u001b[0m\u001b[0mpage_source\u001b[0m\u001b[1;33m\u001b[0m\u001b[1;33m\u001b[0m\u001b[0m\n\u001b[0;32m    678\u001b[0m         \"\"\"\n\u001b[1;32m--> 679\u001b[1;33m         \u001b[1;32mreturn\u001b[0m \u001b[0mself\u001b[0m\u001b[1;33m.\u001b[0m\u001b[0mexecute\u001b[0m\u001b[1;33m(\u001b[0m\u001b[0mCommand\u001b[0m\u001b[1;33m.\u001b[0m\u001b[0mGET_PAGE_SOURCE\u001b[0m\u001b[1;33m)\u001b[0m\u001b[1;33m[\u001b[0m\u001b[1;34m'value'\u001b[0m\u001b[1;33m]\u001b[0m\u001b[1;33m\u001b[0m\u001b[1;33m\u001b[0m\u001b[0m\n\u001b[0m\u001b[0;32m    680\u001b[0m \u001b[1;33m\u001b[0m\u001b[0m\n\u001b[0;32m    681\u001b[0m     \u001b[1;32mdef\u001b[0m \u001b[0mclose\u001b[0m\u001b[1;33m(\u001b[0m\u001b[0mself\u001b[0m\u001b[1;33m)\u001b[0m\u001b[1;33m:\u001b[0m\u001b[1;33m\u001b[0m\u001b[1;33m\u001b[0m\u001b[0m\n",
      "\u001b[1;32m~\\anaconda3\\lib\\site-packages\\selenium\\webdriver\\remote\\webdriver.py\u001b[0m in \u001b[0;36mexecute\u001b[1;34m(self, driver_command, params)\u001b[0m\n\u001b[0;32m    319\u001b[0m         \u001b[0mresponse\u001b[0m \u001b[1;33m=\u001b[0m \u001b[0mself\u001b[0m\u001b[1;33m.\u001b[0m\u001b[0mcommand_executor\u001b[0m\u001b[1;33m.\u001b[0m\u001b[0mexecute\u001b[0m\u001b[1;33m(\u001b[0m\u001b[0mdriver_command\u001b[0m\u001b[1;33m,\u001b[0m \u001b[0mparams\u001b[0m\u001b[1;33m)\u001b[0m\u001b[1;33m\u001b[0m\u001b[1;33m\u001b[0m\u001b[0m\n\u001b[0;32m    320\u001b[0m         \u001b[1;32mif\u001b[0m \u001b[0mresponse\u001b[0m\u001b[1;33m:\u001b[0m\u001b[1;33m\u001b[0m\u001b[1;33m\u001b[0m\u001b[0m\n\u001b[1;32m--> 321\u001b[1;33m             \u001b[0mself\u001b[0m\u001b[1;33m.\u001b[0m\u001b[0merror_handler\u001b[0m\u001b[1;33m.\u001b[0m\u001b[0mcheck_response\u001b[0m\u001b[1;33m(\u001b[0m\u001b[0mresponse\u001b[0m\u001b[1;33m)\u001b[0m\u001b[1;33m\u001b[0m\u001b[1;33m\u001b[0m\u001b[0m\n\u001b[0m\u001b[0;32m    322\u001b[0m             response['value'] = self._unwrap_value(\n\u001b[0;32m    323\u001b[0m                 response.get('value', None))\n",
      "\u001b[1;32m~\\anaconda3\\lib\\site-packages\\selenium\\webdriver\\remote\\errorhandler.py\u001b[0m in \u001b[0;36mcheck_response\u001b[1;34m(self, response)\u001b[0m\n\u001b[0;32m    240\u001b[0m                 \u001b[0malert_text\u001b[0m \u001b[1;33m=\u001b[0m \u001b[0mvalue\u001b[0m\u001b[1;33m[\u001b[0m\u001b[1;34m'alert'\u001b[0m\u001b[1;33m]\u001b[0m\u001b[1;33m.\u001b[0m\u001b[0mget\u001b[0m\u001b[1;33m(\u001b[0m\u001b[1;34m'text'\u001b[0m\u001b[1;33m)\u001b[0m\u001b[1;33m\u001b[0m\u001b[1;33m\u001b[0m\u001b[0m\n\u001b[0;32m    241\u001b[0m             \u001b[1;32mraise\u001b[0m \u001b[0mexception_class\u001b[0m\u001b[1;33m(\u001b[0m\u001b[0mmessage\u001b[0m\u001b[1;33m,\u001b[0m \u001b[0mscreen\u001b[0m\u001b[1;33m,\u001b[0m \u001b[0mstacktrace\u001b[0m\u001b[1;33m,\u001b[0m \u001b[0malert_text\u001b[0m\u001b[1;33m)\u001b[0m\u001b[1;33m\u001b[0m\u001b[1;33m\u001b[0m\u001b[0m\n\u001b[1;32m--> 242\u001b[1;33m         \u001b[1;32mraise\u001b[0m \u001b[0mexception_class\u001b[0m\u001b[1;33m(\u001b[0m\u001b[0mmessage\u001b[0m\u001b[1;33m,\u001b[0m \u001b[0mscreen\u001b[0m\u001b[1;33m,\u001b[0m \u001b[0mstacktrace\u001b[0m\u001b[1;33m)\u001b[0m\u001b[1;33m\u001b[0m\u001b[1;33m\u001b[0m\u001b[0m\n\u001b[0m\u001b[0;32m    243\u001b[0m \u001b[1;33m\u001b[0m\u001b[0m\n\u001b[0;32m    244\u001b[0m     \u001b[1;32mdef\u001b[0m \u001b[0m_value_or_default\u001b[0m\u001b[1;33m(\u001b[0m\u001b[0mself\u001b[0m\u001b[1;33m,\u001b[0m \u001b[0mobj\u001b[0m\u001b[1;33m,\u001b[0m \u001b[0mkey\u001b[0m\u001b[1;33m,\u001b[0m \u001b[0mdefault\u001b[0m\u001b[1;33m)\u001b[0m\u001b[1;33m:\u001b[0m\u001b[1;33m\u001b[0m\u001b[1;33m\u001b[0m\u001b[0m\n",
      "\u001b[1;31mNoSuchWindowException\u001b[0m: Message: no such window: target window already closed\nfrom unknown error: web view not found\n  (Session info: chrome=85.0.4183.121)\n"
     ]
    }
   ],
   "source": [
    "all_makes = list(make_models.keys())\n",
    "startyear1 = 2005\n",
    "endyear1 = 2014\n",
    "location = 'washington-dc-20500'\n",
    "startyear2 = 2015\n",
    "endyear2 = 2021\n",
    "\n",
    "for make in all_makes[0:1]:\n",
    "    for model in make_models[make]:\n",
    "        single_scrape(model,make,location,startyear1,endyear1)\n",
    "        single_scrape(model,make,location,startyear2,endyear2)"
   ]
  },
  {
   "cell_type": "code",
   "execution_count": 89,
   "metadata": {},
   "outputs": [
    {
     "data": {
      "text/plain": [
       "['Acura']"
      ]
     },
     "execution_count": 89,
     "metadata": {},
     "output_type": "execute_result"
    }
   ],
   "source": [
    "all_makes[0:1]"
   ]
  },
  {
   "cell_type": "code",
   "execution_count": 76,
   "metadata": {},
   "outputs": [
    {
     "data": {
      "text/plain": [
       "['Acura', 'Audi', 'BMW', 'Buick', 'Cadillac', 'Chevrolet', 'Chrysler']"
      ]
     },
     "execution_count": 76,
     "metadata": {},
     "output_type": "execute_result"
    }
   ],
   "source": [
    "all_makes[0:7]"
   ]
  },
  {
   "cell_type": "code",
   "execution_count": 77,
   "metadata": {},
   "outputs": [
    {
     "data": {
      "text/plain": [
       "['Dodge', 'Ferrari', 'Ford', 'Genesis', 'GMC', 'Honda', 'Hyundai']"
      ]
     },
     "execution_count": 77,
     "metadata": {},
     "output_type": "execute_result"
    }
   ],
   "source": [
    "all_makes[7:14]"
   ]
  },
  {
   "cell_type": "code",
   "execution_count": 78,
   "metadata": {},
   "outputs": [
    {
     "data": {
      "text/plain": [
       "['INFINITI', 'Jaguar', 'Jeep', 'Kia', 'Land_Rover', 'Lexus', 'Lincoln']"
      ]
     },
     "execution_count": 78,
     "metadata": {},
     "output_type": "execute_result"
    }
   ],
   "source": [
    "all_makes[14:21]"
   ]
  },
  {
   "cell_type": "code",
   "execution_count": 81,
   "metadata": {},
   "outputs": [
    {
     "data": {
      "text/plain": [
       "['MAZDA', 'Mercedes-Benz', 'MINI', 'Mitsubishi', 'Nissan', 'Porsche', 'RAM']"
      ]
     },
     "execution_count": 81,
     "metadata": {},
     "output_type": "execute_result"
    }
   ],
   "source": [
    "all_makes[21:28]"
   ]
  },
  {
   "cell_type": "code",
   "execution_count": 84,
   "metadata": {},
   "outputs": [
    {
     "data": {
      "text/plain": [
       "['Subaru', 'Tesla', 'Toyota', 'Volkswagen', 'Volvo']"
      ]
     },
     "execution_count": 84,
     "metadata": {},
     "output_type": "execute_result"
    }
   ],
   "source": [
    "all_makes[28:]"
   ]
  },
  {
   "cell_type": "code",
   "execution_count": 217,
   "metadata": {},
   "outputs": [],
   "source": [
    "def extract_data(target_page):\n",
    "    data = open(target_page,'r',encoding='utf-8')\n",
    "    soup = BeautifulSoup(data, 'html.parser')\n",
    "    all_listings = soup.find_all(\"div\",{\"data-cmp\":\"inventoryListing\"})\n",
    "    \n",
    "    make_model = [target_page.split('\\\\')[2]]*len(all_listings)\n",
    "    year = []\n",
    "    price = []\n",
    "    milage_infos = []\n",
    "\n",
    "    for i in range(len(all_listings)):\n",
    "        try:\n",
    "            vehicle_price = all_listings[i].find_all(\"span\", {\"class\":\"first-price\"})[0].text\n",
    "            vehicle_price = float(vehicle_price.replace(\",\",\"\"))\n",
    "        except:\n",
    "            vehicle_price ='na'\n",
    "        try:\n",
    "            vehicle_milage = all_listings[i].find_all(\"div\", {\"class\":\"item-card-specifications col-xs-9 margin-top-4 text-subdued-lighter margin-bottom-3\"})[0].text\n",
    "            vehicle_milage = float(vehicle_milage.split(\"miles\")[0][:-1].replace(\",\",\"\"))\n",
    "        except:\n",
    "            vehicle_milage = 'na'\n",
    "        try:\n",
    "            vehicle_year = all_listings[i].find_all(\"div\", {\"class\":\"display-flex justify-content-between\"})[0].text\n",
    "            vehicle_year = float(vehicle_year.split(\" \")[1])\n",
    "        except:\n",
    "            vehicle_year='na'\n",
    "\n",
    "\n",
    "        year.append(vehicle_year)\n",
    "        price.append(vehicle_price)\n",
    "        milage_infos.append(vehicle_milage)\n",
    "        \n",
    "    return({\"make_model\":make_model,\"year\":year,\"milage\":milage_infos,\"price\":price})"
   ]
  },
  {
   "cell_type": "code",
   "execution_count": 246,
   "metadata": {},
   "outputs": [],
   "source": [
    "make = 'Acura'\n",
    "startyear1 = 2005\n",
    "endyear1 = 2014\n",
    "location = 'washington-dc-20500'\n",
    "startyear2 = 2015\n",
    "endyear2 = 2021\n",
    "\n",
    "makemodel = make_models[make][1]\n",
    "target_folder = os.path.join('scraped_page_src',make)\n",
    "model_folder = os.path.join(target_folder,makemodel.replace('/','_'))\n",
    "target_page = os.path.join(model_folder,makemodel.replace('/','_')+str(startyear1)+'-'+str(endyear1)+'.html')\n",
    "acura_ilx_dict = extract_data(target_page)"
   ]
  },
  {
   "cell_type": "code",
   "execution_count": 219,
   "metadata": {},
   "outputs": [],
   "source": [
    "import pandas as pd"
   ]
  },
  {
   "cell_type": "code",
   "execution_count": 270,
   "metadata": {},
   "outputs": [],
   "source": [
    "df = pd.DataFrame(acura_ilx_dict)\n",
    "def remove_na(df):\n",
    "    rows_to_drop=[]\n",
    "    for row in range(len(df)):\n",
    "        for col in list(df.columns):\n",
    "            if df.iloc[row][col] =='na':\n",
    "                rows_to_drop.append(row)\n",
    "    output_df = df.drop(rows_to_drop)\n",
    "    return(output_df)"
   ]
  },
  {
   "cell_type": "code",
   "execution_count": 272,
   "metadata": {},
   "outputs": [],
   "source": [
    "df = remove_na(df)"
   ]
  },
  {
   "cell_type": "code",
   "execution_count": 281,
   "metadata": {},
   "outputs": [],
   "source": [
    "import matplotlib.pyplot as plt\n",
    "%matplotlib inline\n",
    "from matplotlib.figure import Figure\n"
   ]
  },
  {
   "cell_type": "code",
   "execution_count": 291,
   "metadata": {},
   "outputs": [],
   "source": [
    "y = df['price']\n",
    "x1 = df['milage']\n",
    "x2 = df['year']\n"
   ]
  },
  {
   "cell_type": "code",
   "execution_count": 284,
   "metadata": {},
   "outputs": [
    {
     "data": {
      "text/plain": [
       "<matplotlib.collections.PathCollection at 0x27db7f772e0>"
      ]
     },
     "execution_count": 284,
     "metadata": {},
     "output_type": "execute_result"
    },
    {
     "data": {
      "image/png": "[encoded data removed]",
      "text/plain": [
       "<Figure size 432x288 with 1 Axes>"
      ]
     },
     "metadata": {
      "needs_background": "light"
     },
     "output_type": "display_data"
    }
   ],
   "source": [
    "plt.scatter(x1,y)"
   ]
  },
  {
   "cell_type": "code",
   "execution_count": 293,
   "metadata": {},
   "outputs": [
    {
     "data": {
      "text/plain": [
       "<matplotlib.collections.PathCollection at 0x27db4b64eb0>"
      ]
     },
     "execution_count": 293,
     "metadata": {},
     "output_type": "execute_result"
    },
    {
     "data": {
      "image/png": "[encoded data removed]",
      "text/plain": [
       "<Figure size 432x288 with 1 Axes>"
      ]
     },
     "metadata": {
      "needs_background": "light"
     },
     "output_type": "display_data"
    }
   ],
   "source": [
    "plt.scatter(x2,y)"
   ]
  },
  {
   "cell_type": "code",
   "execution_count": null,
   "metadata": {},
   "outputs": [],
   "source": []
  },
  {
   "cell_type": "code",
   "execution_count": null,
   "metadata": {},
   "outputs": [],
   "source": []
  }
 ],
 "metadata": {
  "kernelspec": {
   "display_name": "Python 3",
   "language": "python",
   "name": "python3"
  },
  "language_info": {
   "codemirror_mode": {
    "name": "ipython",
    "version": 3
   },
   "file_extension": ".py",
   "mimetype": "text/x-python",
   "name": "python",
   "nbconvert_exporter": "python",
   "pygments_lexer": "ipython3",
   "version": "3.8.3"
  }
 },
 "nbformat": 4,
 "nbformat_minor": 4
}
