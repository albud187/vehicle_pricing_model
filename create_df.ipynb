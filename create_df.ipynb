{
 "cells": [
  {
   "cell_type": "code",
   "execution_count": 2,
   "metadata": {},
   "outputs": [],
   "source": [
    "#imports\n",
    "import os\n",
    "from selenium import webdriver\n",
    "from selenium.webdriver.common.keys import Keys\n",
    "import time\n",
    "\n",
    "import requests\n",
    "from bs4 import BeautifulSoup\n",
    "import pandas as pd\n",
    "import random\n",
    "from selenium import webdriver\n",
    "from selenium.webdriver.common.keys import Keys\n",
    "import pickle"
   ]
  },
  {
   "cell_type": "code",
   "execution_count": null,
   "metadata": {},
   "outputs": [],
   "source": [
    "# for make in list(make_models.keys()):\n",
    "#     os.makedirs(os.path.join(newpath,make))"
   ]
  },
  {
   "cell_type": "code",
   "execution_count": null,
   "metadata": {},
   "outputs": [],
   "source": [
    "#scrape all vehicle models and save html page\n",
    "\n",
    "base_url = 'https://www.kijijiautos.ca/cars/'\n",
    "with open('make_models2.pickle', 'rb') as handle:\n",
    "    make_models = pickle.load(handle)\n",
    "\n",
    "chromrdriver = r\"C:\\Users\\alfab\\Documents\\chromedriver.exe\"\n",
    "os.environ[\"webdriver.chrome.driver\"] = chromrdriver\n",
    "\n",
    "#there are 72 elements in make_models.keys()\n",
    "src_folder = 'scraped_page_source'\n",
    "\n",
    "make = list(make_models.keys())[3]\n",
    "for model in make_models[make]:\n",
    "    driver = webdriver.Chrome(chromrdriver)\n",
    "    target_url = base_url + model\n",
    "    ScrollNumber = 100\n",
    "    driver.get(target_url)\n",
    "    for i in range(1, ScrollNumber):\n",
    "        driver.execute_script(\"window.scrollTo(1,50000)\")\n",
    "    with open(os.path.join(os.path.join(src_folder,make),(model.replace('/','_'))+'.html'), \"w\", encoding='utf-8') as f:\n",
    "        f.write(driver.page_source)\n",
    "    driver.close()\n"
   ]
  },
  {
   "cell_type": "code",
   "execution_count": 26,
   "metadata": {},
   "outputs": [
    {
     "data": {
      "text/plain": [
       "72"
      ]
     },
     "execution_count": 26,
     "metadata": {},
     "output_type": "execute_result"
    }
   ],
   "source": [
    "len(list(make_models.keys()))"
   ]
  },
  {
   "cell_type": "code",
   "execution_count": 34,
   "metadata": {},
   "outputs": [
    {
     "data": {
      "text/plain": [
       "'chevrolet'"
      ]
     },
     "execution_count": 34,
     "metadata": {},
     "output_type": "execute_result"
    }
   ],
   "source": [
    "list(make_models.keys())[2]"
   ]
  },
  {
   "cell_type": "code",
   "execution_count": null,
   "metadata": {},
   "outputs": [],
   "source": [
    "htmlClassDict = {\"name\":\"_3jBWYAEU6W4f4h0_uQWlSw\",\n",
    "                \"price\":\"_2jW16MbPwMNWwr9gXaKCbP\",\n",
    "                \"milage\":\"_3hoJ6DuW70ccYWAT2U4Oi7 og5qvVuHyRgSm59reAG-n\"}\n",
    "\n",
    "data = open(os.path.join(os.path.join(src_folder,make),(model.replace('/','_'))+'.html'),'r', encoding='utf-8')\n",
    "soup = BeautifulSoup(data, 'html.parser')"
   ]
  },
  {
   "cell_type": "code",
   "execution_count": null,
   "metadata": {},
   "outputs": [],
   "source": [
    "#initialize pandas dataframe\n",
    "import pandas as pd\n",
    "import numpy as np\n",
    "\n",
    "columns = ['make','model','milage','year','transmission','price']\n",
    "\n",
    "def get_milage(milage_str):\n",
    "    pass\n",
    "\n",
    "def get_year(name_str):\n",
    "    pass\n",
    "\n",
    "def get_trans(trans_str):\n",
    "    if trans_str =='Automatic':\n",
    "        return(1)\n",
    "    if trans_str =='Manual':\n",
    "        return(0)\n",
    "    else:\n",
    "        return(3)\n",
    "\n",
    "def get_price(price_str):\n",
    "    pass\n",
    "\n",
    "\n",
    "\n",
    "\n",
    "\n",
    "\n"
   ]
  }
 ],
 "metadata": {
  "kernelspec": {
   "display_name": "Python 3",
   "language": "python",
   "name": "python3"
  },
  "language_info": {
   "codemirror_mode": {
    "name": "ipython",
    "version": 3
   },
   "file_extension": ".py",
   "mimetype": "text/x-python",
   "name": "python",
   "nbconvert_exporter": "python",
   "pygments_lexer": "ipython3",
   "version": "3.8.3"
  }
 },
 "nbformat": 4,
 "nbformat_minor": 4
}
